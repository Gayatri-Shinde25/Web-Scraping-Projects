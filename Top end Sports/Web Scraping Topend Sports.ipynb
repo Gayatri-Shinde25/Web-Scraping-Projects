{
 "cells": [
  {
   "cell_type": "markdown",
   "id": "7d24e7b3",
   "metadata": {},
   "source": [
    "# Web Scraping using Beautiful Scoop"
   ]
  },
  {
   "cell_type": "code",
   "execution_count": 1,
   "id": "0db9461c",
   "metadata": {},
   "outputs": [],
   "source": [
    "# Importing Libraries\n",
    "from bs4 import BeautifulSoup\n",
    "import pandas as  pd\n",
    "import requests\n",
    "from unidecode import unidecode"
   ]
  },
  {
   "cell_type": "code",
   "execution_count": 2,
   "id": "d326661e",
   "metadata": {},
   "outputs": [],
   "source": [
    "URL = \"https://www.topendsports.com/events/summer/hosts/list.htm\"  # The URL of the webpage"
   ]
  },
  {
   "cell_type": "code",
   "execution_count": 3,
   "id": "e950d56f",
   "metadata": {},
   "outputs": [],
   "source": [
    "response = requests.get(URL)  # Get the HTML webpage"
   ]
  },
  {
   "cell_type": "code",
   "execution_count": 4,
   "id": "2f4b4565",
   "metadata": {},
   "outputs": [],
   "source": [
    "htmlContent = response.text  # Get the HTML data text\n",
    "#print(htmlContent)"
   ]
  },
  {
   "cell_type": "code",
   "execution_count": 5,
   "id": "84275f5a",
   "metadata": {},
   "outputs": [],
   "source": [
    "soup = BeautifulSoup(htmlContent, 'lxml')  # Parsing the HTML data"
   ]
  },
  {
   "cell_type": "code",
   "execution_count": 6,
   "id": "53cf64b6",
   "metadata": {},
   "outputs": [],
   "source": [
    "#print(soup.prettify())  # Printing the whole html code to inspect it"
   ]
  },
  {
   "cell_type": "code",
   "execution_count": 7,
   "id": "5efe0a51",
   "metadata": {},
   "outputs": [],
   "source": [
    "import csv\n",
    "\n",
    "table = soup.find('table')\n",
    "data_elements = []  # Defining an empty list forstoring output"
   ]
  },
  {
   "cell_type": "code",
   "execution_count": 8,
   "id": "a6054554",
   "metadata": {},
   "outputs": [],
   "source": [
    "for TR in table.find_all(\"tr\"):  # Looping through Multiple rows to append data\n",
    "    for TD in TR.find_all(\"td\"):  # Looping through every data element\n",
    "        data_elements.append(TD.get_text(strip=True, separator=\" \"))  #adding data to the list"
   ]
  },
  {
   "cell_type": "code",
   "execution_count": 9,
   "id": "94e821e9",
   "metadata": {},
   "outputs": [
    {
     "name": "stdout",
     "output_type": "stream",
     "text": [
      "['I', '1896', 'Athens , Greece', 'II', '1900', 'Paris , France', 'III', '1904', 'St Louis , USA', '', '1906', 'Athens , Greece', 'IV', '1908', 'London , England, UK', 'V', '1912', 'Stockholm , Sweden', 'VI', '1916', 'Berlin, Germany (not held)', 'VII', '1920', 'Antwerp , Belgium', 'VIII', '1924', 'Paris , France', 'IX', '1928', 'Amsterdam , The Netherlands', 'X', '1932', 'Los Angeles , USA', 'XI', '1936', 'Berlin , Germany', 'XII', '1940', 'Tokyo, Japan /\\nHelsinki, Finland\\n(not held)', 'XIII', '1944', 'London, England, UK\\n(not held)', 'XIV', '1948', 'London , England, UK', 'XV', '1952', 'Helsinki , Finland', 'XVI', '1956', 'Melbourne , Australia (also Stockholm, Sweden )', 'XVII', '1960', 'Rome , Italy', 'XVIII', '1964', 'Tokyo , Japan', 'XIX', '1968', 'Mexico City , Mexico', 'XX', '1972', 'Munich , Germany', 'XXI', '1976', 'Montreal , Canada', 'XXII', '1980', 'Moscow , USSR', 'XXIII', '1984', 'Los Angeles , USA', 'XXIV', '1988', 'Seoul , South Korea', 'XXV', '1992', 'Barcelona , Spain', 'XXVI', '1996', 'Atlanta , USA', 'XXVII', '2000', 'Sydney , Australia', 'XXVIII', '2004', 'Athens , Greece', 'XXIX', '2008', 'Beijing , China', 'XXX', '2012', 'London , England, UK', 'XXXI', '2016', 'Rio , Brazil', 'XXXII', '2021', 'Tokyo , Japan', 'XXXIII', '2024', 'Paris , France', 'XXXIV', '2028', 'Los Angeles , USA', 'XXXV', '2032', 'Brisbane , Australia']\n"
     ]
    }
   ],
   "source": [
    "print(data_elements)"
   ]
  },
  {
   "cell_type": "code",
   "execution_count": 10,
   "id": "d6eca08d",
   "metadata": {},
   "outputs": [],
   "source": [
    "def listOfLists(data, listsize):  # A function to break down the list into list of lists\n",
    "    for i in range(0, len(data), listsize):\n",
    "        yield data[i:i + listsize]\n",
    "\n",
    "\n",
    "alldata = list(listOfLists(data_elements, 3))"
   ]
  },
  {
   "cell_type": "code",
   "execution_count": 11,
   "id": "408f5b80",
   "metadata": {},
   "outputs": [
    {
     "name": "stdout",
     "output_type": "stream",
     "text": [
      "[['I', '1896', 'Athens , Greece'], ['II', '1900', 'Paris , France'], ['III', '1904', 'St Louis , USA'], ['', '1906', 'Athens , Greece'], ['IV', '1908', 'London , England, UK'], ['V', '1912', 'Stockholm , Sweden'], ['VI', '1916', 'Berlin, Germany (not held)'], ['VII', '1920', 'Antwerp , Belgium'], ['VIII', '1924', 'Paris , France'], ['IX', '1928', 'Amsterdam , The Netherlands'], ['X', '1932', 'Los Angeles , USA'], ['XI', '1936', 'Berlin , Germany'], ['XII', '1940', 'Tokyo, Japan /\\nHelsinki, Finland\\n(not held)'], ['XIII', '1944', 'London, England, UK\\n(not held)'], ['XIV', '1948', 'London , England, UK'], ['XV', '1952', 'Helsinki , Finland'], ['XVI', '1956', 'Melbourne , Australia (also Stockholm, Sweden )'], ['XVII', '1960', 'Rome , Italy'], ['XVIII', '1964', 'Tokyo , Japan'], ['XIX', '1968', 'Mexico City , Mexico'], ['XX', '1972', 'Munich , Germany'], ['XXI', '1976', 'Montreal , Canada'], ['XXII', '1980', 'Moscow , USSR'], ['XXIII', '1984', 'Los Angeles , USA'], ['XXIV', '1988', 'Seoul , South Korea'], ['XXV', '1992', 'Barcelona , Spain'], ['XXVI', '1996', 'Atlanta , USA'], ['XXVII', '2000', 'Sydney , Australia'], ['XXVIII', '2004', 'Athens , Greece'], ['XXIX', '2008', 'Beijing , China'], ['XXX', '2012', 'London , England, UK'], ['XXXI', '2016', 'Rio , Brazil'], ['XXXII', '2021', 'Tokyo , Japan'], ['XXXIII', '2024', 'Paris , France'], ['XXXIV', '2028', 'Los Angeles , USA'], ['XXXV', '2032', 'Brisbane , Australia']]\n"
     ]
    }
   ],
   "source": [
    "print(list(listOfLists (data_elements,3)))"
   ]
  },
  {
   "cell_type": "code",
   "execution_count": 12,
   "id": "aecda8f3",
   "metadata": {},
   "outputs": [
    {
     "name": "stdout",
     "output_type": "stream",
     "text": [
      "['Olympiad', 'Year', 'Host City, Country']\n"
     ]
    }
   ],
   "source": [
    "header_elements = []  # Defining an empty list for storing output \n",
    "for TR in table.find_all(\"tr\"):  # Looping through Multiple rows to append headers\n",
    "    for TH in TR.find_all(\"th\"):  # Looping through every header data\n",
    "        header_elements.append(TH.get_text(strip=True, separator=\"\"))\n",
    "print(header_elements)"
   ]
  },
  {
   "cell_type": "code",
   "execution_count": 13,
   "id": "848f563e",
   "metadata": {},
   "outputs": [],
   "source": [
    "alldata = [[unidecode(item) for item in row] for row in alldata] #Removing or replacing problematic characters"
   ]
  },
  {
   "cell_type": "code",
   "execution_count": 14,
   "id": "ce1fa8c0",
   "metadata": {},
   "outputs": [],
   "source": [
    "with open('WebScrapping.csv', 'w', newline='\\n') as datafile:\n",
    "    table_writer = csv.writer(datafile)\n",
    "    table_writer.writerow(header_elements)  #writing headers in the file\n",
    "    table_writer.writerows(alldata)  #writing data elements in the  file"
   ]
  },
  {
   "cell_type": "code",
   "execution_count": 15,
   "id": "aaf194a8-278f-45e8-ba2e-4a5cd81d3a2c",
   "metadata": {},
   "outputs": [
    {
     "data": {
      "text/html": [
       "<div>\n",
       "<style scoped>\n",
       "    .dataframe tbody tr th:only-of-type {\n",
       "        vertical-align: middle;\n",
       "    }\n",
       "\n",
       "    .dataframe tbody tr th {\n",
       "        vertical-align: top;\n",
       "    }\n",
       "\n",
       "    .dataframe thead th {\n",
       "        text-align: right;\n",
       "    }\n",
       "</style>\n",
       "<table border=\"1\" class=\"dataframe\">\n",
       "  <thead>\n",
       "    <tr style=\"text-align: right;\">\n",
       "      <th></th>\n",
       "      <th>Olympiad</th>\n",
       "      <th>Year</th>\n",
       "      <th>Host City, Country</th>\n",
       "    </tr>\n",
       "  </thead>\n",
       "  <tbody>\n",
       "    <tr>\n",
       "      <th>0</th>\n",
       "      <td>I</td>\n",
       "      <td>1896</td>\n",
       "      <td>Athens , Greece</td>\n",
       "    </tr>\n",
       "    <tr>\n",
       "      <th>1</th>\n",
       "      <td>II</td>\n",
       "      <td>1900</td>\n",
       "      <td>Paris , France</td>\n",
       "    </tr>\n",
       "    <tr>\n",
       "      <th>2</th>\n",
       "      <td>III</td>\n",
       "      <td>1904</td>\n",
       "      <td>St Louis , USA</td>\n",
       "    </tr>\n",
       "    <tr>\n",
       "      <th>3</th>\n",
       "      <td>NaN</td>\n",
       "      <td>1906</td>\n",
       "      <td>Athens , Greece</td>\n",
       "    </tr>\n",
       "    <tr>\n",
       "      <th>4</th>\n",
       "      <td>IV</td>\n",
       "      <td>1908</td>\n",
       "      <td>London , England, UK</td>\n",
       "    </tr>\n",
       "    <tr>\n",
       "      <th>5</th>\n",
       "      <td>V</td>\n",
       "      <td>1912</td>\n",
       "      <td>Stockholm , Sweden</td>\n",
       "    </tr>\n",
       "    <tr>\n",
       "      <th>6</th>\n",
       "      <td>VI</td>\n",
       "      <td>1916</td>\n",
       "      <td>Berlin, Germany (not held)</td>\n",
       "    </tr>\n",
       "    <tr>\n",
       "      <th>7</th>\n",
       "      <td>VII</td>\n",
       "      <td>1920</td>\n",
       "      <td>Antwerp , Belgium</td>\n",
       "    </tr>\n",
       "    <tr>\n",
       "      <th>8</th>\n",
       "      <td>VIII</td>\n",
       "      <td>1924</td>\n",
       "      <td>Paris , France</td>\n",
       "    </tr>\n",
       "    <tr>\n",
       "      <th>9</th>\n",
       "      <td>IX</td>\n",
       "      <td>1928</td>\n",
       "      <td>Amsterdam , The Netherlands</td>\n",
       "    </tr>\n",
       "    <tr>\n",
       "      <th>10</th>\n",
       "      <td>X</td>\n",
       "      <td>1932</td>\n",
       "      <td>Los Angeles , USA</td>\n",
       "    </tr>\n",
       "    <tr>\n",
       "      <th>11</th>\n",
       "      <td>XI</td>\n",
       "      <td>1936</td>\n",
       "      <td>Berlin , Germany</td>\n",
       "    </tr>\n",
       "    <tr>\n",
       "      <th>12</th>\n",
       "      <td>XII</td>\n",
       "      <td>1940</td>\n",
       "      <td>Tokyo, Japan /\\nHelsinki, Finland\\n(not held)</td>\n",
       "    </tr>\n",
       "    <tr>\n",
       "      <th>13</th>\n",
       "      <td>XIII</td>\n",
       "      <td>1944</td>\n",
       "      <td>London, England, UK\\n(not held)</td>\n",
       "    </tr>\n",
       "    <tr>\n",
       "      <th>14</th>\n",
       "      <td>XIV</td>\n",
       "      <td>1948</td>\n",
       "      <td>London , England, UK</td>\n",
       "    </tr>\n",
       "    <tr>\n",
       "      <th>15</th>\n",
       "      <td>XV</td>\n",
       "      <td>1952</td>\n",
       "      <td>Helsinki , Finland</td>\n",
       "    </tr>\n",
       "    <tr>\n",
       "      <th>16</th>\n",
       "      <td>XVI</td>\n",
       "      <td>1956</td>\n",
       "      <td>Melbourne , Australia (also Stockholm, Sweden )</td>\n",
       "    </tr>\n",
       "    <tr>\n",
       "      <th>17</th>\n",
       "      <td>XVII</td>\n",
       "      <td>1960</td>\n",
       "      <td>Rome , Italy</td>\n",
       "    </tr>\n",
       "    <tr>\n",
       "      <th>18</th>\n",
       "      <td>XVIII</td>\n",
       "      <td>1964</td>\n",
       "      <td>Tokyo , Japan</td>\n",
       "    </tr>\n",
       "    <tr>\n",
       "      <th>19</th>\n",
       "      <td>XIX</td>\n",
       "      <td>1968</td>\n",
       "      <td>Mexico City , Mexico</td>\n",
       "    </tr>\n",
       "    <tr>\n",
       "      <th>20</th>\n",
       "      <td>XX</td>\n",
       "      <td>1972</td>\n",
       "      <td>Munich , Germany</td>\n",
       "    </tr>\n",
       "    <tr>\n",
       "      <th>21</th>\n",
       "      <td>XXI</td>\n",
       "      <td>1976</td>\n",
       "      <td>Montreal , Canada</td>\n",
       "    </tr>\n",
       "    <tr>\n",
       "      <th>22</th>\n",
       "      <td>XXII</td>\n",
       "      <td>1980</td>\n",
       "      <td>Moscow , USSR</td>\n",
       "    </tr>\n",
       "    <tr>\n",
       "      <th>23</th>\n",
       "      <td>XXIII</td>\n",
       "      <td>1984</td>\n",
       "      <td>Los Angeles , USA</td>\n",
       "    </tr>\n",
       "    <tr>\n",
       "      <th>24</th>\n",
       "      <td>XXIV</td>\n",
       "      <td>1988</td>\n",
       "      <td>Seoul , South Korea</td>\n",
       "    </tr>\n",
       "    <tr>\n",
       "      <th>25</th>\n",
       "      <td>XXV</td>\n",
       "      <td>1992</td>\n",
       "      <td>Barcelona , Spain</td>\n",
       "    </tr>\n",
       "    <tr>\n",
       "      <th>26</th>\n",
       "      <td>XXVI</td>\n",
       "      <td>1996</td>\n",
       "      <td>Atlanta , USA</td>\n",
       "    </tr>\n",
       "    <tr>\n",
       "      <th>27</th>\n",
       "      <td>XXVII</td>\n",
       "      <td>2000</td>\n",
       "      <td>Sydney , Australia</td>\n",
       "    </tr>\n",
       "    <tr>\n",
       "      <th>28</th>\n",
       "      <td>XXVIII</td>\n",
       "      <td>2004</td>\n",
       "      <td>Athens , Greece</td>\n",
       "    </tr>\n",
       "    <tr>\n",
       "      <th>29</th>\n",
       "      <td>XXIX</td>\n",
       "      <td>2008</td>\n",
       "      <td>Beijing , China</td>\n",
       "    </tr>\n",
       "    <tr>\n",
       "      <th>30</th>\n",
       "      <td>XXX</td>\n",
       "      <td>2012</td>\n",
       "      <td>London , England, UK</td>\n",
       "    </tr>\n",
       "    <tr>\n",
       "      <th>31</th>\n",
       "      <td>XXXI</td>\n",
       "      <td>2016</td>\n",
       "      <td>Rio , Brazil</td>\n",
       "    </tr>\n",
       "    <tr>\n",
       "      <th>32</th>\n",
       "      <td>XXXII</td>\n",
       "      <td>2021</td>\n",
       "      <td>Tokyo , Japan</td>\n",
       "    </tr>\n",
       "    <tr>\n",
       "      <th>33</th>\n",
       "      <td>XXXIII</td>\n",
       "      <td>2024</td>\n",
       "      <td>Paris , France</td>\n",
       "    </tr>\n",
       "    <tr>\n",
       "      <th>34</th>\n",
       "      <td>XXXIV</td>\n",
       "      <td>2028</td>\n",
       "      <td>Los Angeles , USA</td>\n",
       "    </tr>\n",
       "    <tr>\n",
       "      <th>35</th>\n",
       "      <td>XXXV</td>\n",
       "      <td>2032</td>\n",
       "      <td>Brisbane , Australia</td>\n",
       "    </tr>\n",
       "  </tbody>\n",
       "</table>\n",
       "</div>"
      ],
      "text/plain": [
       "   Olympiad  Year                               Host City, Country\n",
       "0         I  1896                                  Athens , Greece\n",
       "1        II  1900                                   Paris , France\n",
       "2       III  1904                                   St Louis , USA\n",
       "3       NaN  1906                                  Athens , Greece\n",
       "4        IV  1908                             London , England, UK\n",
       "5         V  1912                               Stockholm , Sweden\n",
       "6        VI  1916                       Berlin, Germany (not held)\n",
       "7       VII  1920                                Antwerp , Belgium\n",
       "8      VIII  1924                                   Paris , France\n",
       "9        IX  1928                      Amsterdam , The Netherlands\n",
       "10        X  1932                                Los Angeles , USA\n",
       "11       XI  1936                                 Berlin , Germany\n",
       "12      XII  1940    Tokyo, Japan /\\nHelsinki, Finland\\n(not held)\n",
       "13     XIII  1944                  London, England, UK\\n(not held)\n",
       "14      XIV  1948                             London , England, UK\n",
       "15       XV  1952                               Helsinki , Finland\n",
       "16      XVI  1956  Melbourne , Australia (also Stockholm, Sweden )\n",
       "17     XVII  1960                                     Rome , Italy\n",
       "18    XVIII  1964                                    Tokyo , Japan\n",
       "19      XIX  1968                             Mexico City , Mexico\n",
       "20       XX  1972                                 Munich , Germany\n",
       "21      XXI  1976                                Montreal , Canada\n",
       "22     XXII  1980                                    Moscow , USSR\n",
       "23    XXIII  1984                                Los Angeles , USA\n",
       "24     XXIV  1988                              Seoul , South Korea\n",
       "25      XXV  1992                                Barcelona , Spain\n",
       "26     XXVI  1996                                    Atlanta , USA\n",
       "27    XXVII  2000                               Sydney , Australia\n",
       "28   XXVIII  2004                                  Athens , Greece\n",
       "29     XXIX  2008                                  Beijing , China\n",
       "30      XXX  2012                             London , England, UK\n",
       "31     XXXI  2016                                     Rio , Brazil\n",
       "32    XXXII  2021                                    Tokyo , Japan\n",
       "33   XXXIII  2024                                   Paris , France\n",
       "34    XXXIV  2028                                Los Angeles , USA\n",
       "35     XXXV  2032                             Brisbane , Australia"
      ]
     },
     "execution_count": 15,
     "metadata": {},
     "output_type": "execute_result"
    }
   ],
   "source": [
    "df= pd.read_csv(r'C:\\Users\\a\\Downloads\\WebScrapping.csv')\n",
    "df"
   ]
  },
  {
   "cell_type": "code",
   "execution_count": null,
   "id": "c6e83002-c89b-4bcc-8ca7-83427f400c93",
   "metadata": {},
   "outputs": [],
   "source": []
  }
 ],
 "metadata": {
  "kernelspec": {
   "display_name": "Python 3 (ipykernel)",
   "language": "python",
   "name": "python3"
  },
  "language_info": {
   "codemirror_mode": {
    "name": "ipython",
    "version": 3
   },
   "file_extension": ".py",
   "mimetype": "text/x-python",
   "name": "python",
   "nbconvert_exporter": "python",
   "pygments_lexer": "ipython3",
   "version": "3.11.7"
  }
 },
 "nbformat": 4,
 "nbformat_minor": 5
}
